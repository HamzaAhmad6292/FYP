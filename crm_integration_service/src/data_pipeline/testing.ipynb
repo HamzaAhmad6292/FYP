{
 "cells": [
  {
   "cell_type": "code",
   "execution_count": 1,
   "metadata": {},
   "outputs": [],
   "source": [
    "import pandas as pd\n",
    "import json\n",
    "from utils.groq_chat import GroqChat\n"
   ]
  },
  {
   "cell_type": "code",
   "execution_count": 2,
   "metadata": {},
   "outputs": [],
   "source": [
    "from data_pipeline.DatasetMapper import DatasetMapper"
   ]
  },
  {
   "cell_type": "code",
   "execution_count": 3,
   "metadata": {},
   "outputs": [
    {
     "name": "stdout",
     "output_type": "stream",
     "text": [
      "dataset\n",
      "Hamza The Great\n",
      "                   Name       Contact                       Email  Location  \\\n",
      "0          Chas Rollett  625-741-0213           crollett0@icq.com         3   \n",
      "1         Rockie Cheney  233-712-5425      rcheney1@delicious.com         3   \n",
      "2           Gretel Pole  514-912-5355           gpole2@elpais.com         3   \n",
      "3      Bertine Scogings  622-446-1554  bscogings3@bizjournals.com         3   \n",
      "4    Leonid Shortcliffe  384-201-2900       lshortcliffe4@ted.com         3   \n",
      "..                  ...           ...                         ...       ...   \n",
      "435      Valery Ternott  238-620-6990     vternottc3@bandcamp.com         3   \n",
      "436        Roxy Forsyde  945-246-6828        rforsydec4@nymag.com         3   \n",
      "437        Jess Skrines  936-756-5245        jskrinesc5@wikia.com         3   \n",
      "438        Burke Sallan  680-783-4295            bsallanc6@wp.com         3   \n",
      "439     Andrej Nelligan  771-910-7917         anelliganc7@icio.us         3   \n",
      "\n",
      "                    _Product_to_pitch  \n",
      "0       12669 9656 7561 214 2674 1338  \n",
      "1       7057 9810 9568 1762 3293 1776  \n",
      "2       6353 8808 7684 2405 3516 7844  \n",
      "3       13265 1196 4221 6404 507 1788  \n",
      "4      22615 5410 7198 3915 1777 5185  \n",
      "..                                ...  \n",
      "435  29703 12051 16027 13135 182 2204  \n",
      "436       39228 1431 764 4510 93 2346  \n",
      "437  14531 15488 30243 437 14841 1867  \n",
      "438     10290 1981 2232 1038 168 2125  \n",
      "439          2787 1698 2510 65 477 52  \n",
      "\n",
      "[440 rows x 5 columns]\n"
     ]
    }
   ],
   "source": [
    "mapper=DatasetMapper()\n",
    "response,_= mapper.map_dataset(\"../sample_data/data1.csv\")\n",
    "print(response)"
   ]
  },
  {
   "cell_type": "code",
   "execution_count": 4,
   "metadata": {},
   "outputs": [],
   "source": []
  }
 ],
 "metadata": {
  "kernelspec": {
   "display_name": ".venv",
   "language": "python",
   "name": "python3"
  },
  "language_info": {
   "codemirror_mode": {
    "name": "ipython",
    "version": 3
   },
   "file_extension": ".py",
   "mimetype": "text/x-python",
   "name": "python",
   "nbconvert_exporter": "python",
   "pygments_lexer": "ipython3",
   "version": "3.12.3"
  }
 },
 "nbformat": 4,
 "nbformat_minor": 2
}
