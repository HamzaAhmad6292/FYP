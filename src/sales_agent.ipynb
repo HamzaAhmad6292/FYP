{
 "cells": [
  {
   "cell_type": "code",
   "execution_count": 22,
   "metadata": {},
   "outputs": [],
   "source": [
    "from utils.chat import OllamaChat\n",
    "from utils.prompts import get_persona"
   ]
  },
  {
   "cell_type": "code",
   "execution_count": 23,
   "metadata": {},
   "outputs": [],
   "source": [
    "system_prompt = get_persona(\"example\")\n"
   ]
  },
  {
   "cell_type": "code",
   "execution_count": 24,
   "metadata": {},
   "outputs": [],
   "source": [
    "chat = OllamaChat(\n",
    "        model='llama3.2',  # Replace with your desired model\n",
    "        system_prompt=system_prompt,\n",
    "        n_ctx=4096,\n",
    "        temperature=0.7\n",
    "    )"
   ]
  },
  {
   "cell_type": "code",
   "execution_count": 32,
   "metadata": {},
   "outputs": [],
   "source": [
    "result=chat.chat(user_prompt=\"yeah sure\")\n",
    "# chat._save_conversation()"
   ]
  },
  {
   "cell_type": "code",
   "execution_count": 33,
   "metadata": {},
   "outputs": [
    {
     "name": "stdout",
     "output_type": "stream",
     "text": [
      "We've worked with several clients in various industries, and I'd be happy to share some success stories with you.\n",
      "\n",
      "For example, one of our e-commerce clients saw a 40% reduction in response times after implementing ServiceFlow AI. They also reported a significant increase in customer satisfaction scores, which ultimately led to increased sales and revenue.\n",
      "\n",
      "Another client in the financial services sector used ChatGenius Pro to automate their chatbot conversations. By integrating it with their existing CRM system, they were able to improve their response time by 30% and reduce the number of manual tasks required to manage customer inquiries.\n",
      "\n",
      "We've also had success with InsightHub Analytics, which provides real-time analytics and reporting capabilities for our clients. It helps them gain valuable insights into their customer behavior and sentiment, enabling them to make data-driven decisions that drive business growth.\n",
      "\n",
      "I'd love to share more about these success stories and how they can benefit your business. Would you like to hear a brief case study or schedule a demo to see ServiceFlow AI in action?\n",
      "\n",
      "Also, I'd like to ask: What are some of the pain points or challenges you're facing with your current customer service operations?\n"
     ]
    }
   ],
   "source": [
    "print(result)"
   ]
  },
  {
   "cell_type": "code",
   "execution_count": 27,
   "metadata": {},
   "outputs": [],
   "source": [
    "chat._load_conversation()"
   ]
  },
  {
   "cell_type": "code",
   "execution_count": 42,
   "metadata": {},
   "outputs": [],
   "source": [
    "result=chatbot.chat(message=\"What Services Do you provide ?\")"
   ]
  }
 ],
 "metadata": {
  "kernelspec": {
   "display_name": "venv",
   "language": "python",
   "name": "python3"
  },
  "language_info": {
   "codemirror_mode": {
    "name": "ipython",
    "version": 3
   },
   "file_extension": ".py",
   "mimetype": "text/x-python",
   "name": "python",
   "nbconvert_exporter": "python",
   "pygments_lexer": "ipython3",
   "version": "3.12.3"
  }
 },
 "nbformat": 4,
 "nbformat_minor": 2
}
