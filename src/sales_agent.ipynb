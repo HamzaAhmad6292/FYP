{
 "cells": [
  {
   "cell_type": "code",
   "execution_count": 28,
   "metadata": {},
   "outputs": [],
   "source": [
    "from utils.chat import OllamaChatBot\n",
    "from utils.prompts import get_persona"
   ]
  },
  {
   "cell_type": "code",
   "execution_count": 29,
   "metadata": {},
   "outputs": [],
   "source": [
    "system_prompt = get_persona(\"general_sales_agent\")\n",
    "\n",
    "chatbot = OllamaChatBot(model_name=\"llama3.2\",max_tokens=5000,system_prompt=system_prompt)"
   ]
  },
  {
   "cell_type": "code",
   "execution_count": 30,
   "metadata": {},
   "outputs": [],
   "source": [
    "result=chatbot.chat(message=\"I’m looking for a company that values its customers. What makes your service better than others?\")"
   ]
  },
  {
   "cell_type": "code",
   "execution_count": 33,
   "metadata": {},
   "outputs": [
    {
     "name": "stdout",
     "output_type": "stream",
     "text": [
      "I'm glad you found our approach to customer satisfaction interesting! I think it's essential to find a company that shares your values and priorities, as it can make a big difference in the overall experience.\n",
      "\n",
      "To help you further, I'd like to ask a few questions. What specific issues or pain points are you currently facing in your current relationship with a company? Are there any particular features or services that you're looking for in a new partnership?\n",
      "\n",
      "Additionally, what kind of values do you think are most important when it comes to customer-centricity? For example, is it the level of service, the responsiveness of the team, or something else entirely?\n",
      "\n",
      "By understanding your needs and priorities better, I can provide more tailored guidance on how our company measures up and whether we might be a good fit for you.\n"
     ]
    }
   ],
   "source": [
    "print(result)"
   ]
  },
  {
   "cell_type": "code",
   "execution_count": null,
   "metadata": {},
   "outputs": [],
   "source": []
  },
  {
   "cell_type": "code",
   "execution_count": 32,
   "metadata": {},
   "outputs": [],
   "source": [
    "result=chatbot.chat(message=\"its good to hear that\")"
   ]
  }
 ],
 "metadata": {
  "kernelspec": {
   "display_name": "venv",
   "language": "python",
   "name": "python3"
  },
  "language_info": {
   "codemirror_mode": {
    "name": "ipython",
    "version": 3
   },
   "file_extension": ".py",
   "mimetype": "text/x-python",
   "name": "python",
   "nbconvert_exporter": "python",
   "pygments_lexer": "ipython3",
   "version": "3.12.3"
  }
 },
 "nbformat": 4,
 "nbformat_minor": 2
}
