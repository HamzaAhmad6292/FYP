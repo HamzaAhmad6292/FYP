{
 "cells": [
  {
   "cell_type": "code",
   "execution_count": 1,
   "metadata": {},
   "outputs": [],
   "source": [
    "from utils.chat import OllamaChat\n",
    "from utils.prompts import get_persona\n",
    "from company_about_summarizer import summarize_company_about\n",
    "from utils.example_company.company_about import company_data\n",
    "from utils.example_company.example_customer import example_customer\n",
    "from utils.example_company.products_data import Products_data\n",
    "import json"
   ]
  },
  {
   "cell_type": "markdown",
   "metadata": {},
   "source": [
    "# Summarizing the Company Data"
   ]
  },
  {
   "cell_type": "code",
   "execution_count": 2,
   "metadata": {},
   "outputs": [],
   "source": [
    "company_data_summarized=summarize_company_about(company_data)\n"
   ]
  },
  {
   "cell_type": "code",
   "execution_count": 3,
   "metadata": {},
   "outputs": [],
   "source": [
    "system_prompt = get_persona(\"general_sales_agent\",company_data=company_data_summarized)"
   ]
  },
  {
   "cell_type": "code",
   "execution_count": 4,
   "metadata": {},
   "outputs": [],
   "source": [
    "chat = OllamaChat(\n",
    "        model='llama3.1',  \n",
    "        system_prompt=system_prompt,\n",
    "        n_ctx=8000,\n",
    "        temperature=1.2\n",
    "    )"
   ]
  },
  {
   "cell_type": "markdown",
   "metadata": {},
   "source": [
    "# Greeting the Customer"
   ]
  },
  {
   "cell_type": "code",
   "execution_count": 5,
   "metadata": {},
   "outputs": [],
   "source": [
    "result=chat.chat(user_prompt=\"hello ?\")\n"
   ]
  },
  {
   "cell_type": "code",
   "execution_count": 6,
   "metadata": {},
   "outputs": [
    {
     "name": "stdout",
     "output_type": "stream",
     "text": [
      "Hi there! My name is Alex, and I'm calling from TechCare AI. How are you today? Am I catching you at a good time to chat?\n"
     ]
    }
   ],
   "source": [
    "print(result)"
   ]
  },
  {
   "cell_type": "markdown",
   "metadata": {},
   "source": [
    "# Shifting to Pitching Now"
   ]
  },
  {
   "cell_type": "code",
   "execution_count": 7,
   "metadata": {},
   "outputs": [],
   "source": [
    "name=example_customer[\"customer_name\"]\n",
    "company=example_customer[\"customer_company\"]\n",
    "description=example_customer[\"company_description\"]\n",
    "\n",
    "\n",
    "product_service_details=json.dumps(Products_data[\"products_and_services\"][0])\n",
    "\n"
   ]
  },
  {
   "cell_type": "code",
   "execution_count": 8,
   "metadata": {},
   "outputs": [],
   "source": [
    "chat.system_prompt=get_persona(\"product_pitch_agent\",customer_name=name,customer_company=company,company_description=description,product_service_details=product_service_details)"
   ]
  },
  {
   "cell_type": "code",
   "execution_count": 9,
   "metadata": {},
   "outputs": [],
   "source": [
    "result=chat.chat(user_prompt=\"Yeah sure\")"
   ]
  },
  {
   "cell_type": "code",
   "execution_count": 10,
   "metadata": {},
   "outputs": [
    {
     "name": "stdout",
     "output_type": "stream",
     "text": [
      "So, I understand that you're with Tech Innovators Inc., a company that's all about harnessing the power of technology to drive business forward. That's exactly why we're here - to help you and your team make the most out of cutting-edge solutions.\n",
      "\n",
      "I'd like to talk to you about something that I think can really make a difference in your customer service operations: ServiceFlow AI. Have you heard of it?\n"
     ]
    }
   ],
   "source": [
    "print(result)"
   ]
  },
  {
   "cell_type": "code",
   "execution_count": 22,
   "metadata": {},
   "outputs": [
    {
     "name": "stdout",
     "output_type": "stream",
     "text": [
      "I'm glad you're interested in learning more.\n",
      "\n",
      "So, ServiceFlow AI is built on a combination of advanced machine learning algorithms and robust integration capabilities. Here's a high-level overview of how it works:\n",
      "\n",
      "1. **Ticket Ingestion**: Your customer service tickets are fed into the system via our pre-built integrations with popular CRMs like Salesforce, Zendesk, or HubSpot.\n",
      "2. **Categorization**: The AI engine analyzes each ticket and assigns a category or tag based on natural language processing (NLP). This ensures that tickets are routed to the right teams for resolution, reducing misrouting and associated delays.\n",
      "3. **Routing**: ServiceFlow's routing logic uses agent expertise, availability, and workload data to assign tickets to the best-suited team member. You can also customize routing rules based on your specific business needs.\n",
      "4. **Automated Responses**: For common queries or frequently asked questions (FAQs), the AI system generates pre-built responses that are sent automatically to customers, ensuring consistency and faster resolutions.\n",
      "5. **Real-time Monitoring**: The system continuously monitors ticket queues, agent performance, and overall resolution times. This real-time feedback loop allows for adjustments to be made on the fly to optimize your service flow.\n",
      "\n",
      "Here's an example of how this might look in action:\n",
      "\n",
      "* A customer submits a request through your CRM about a technical issue with one of their products.\n",
      "* The ServiceFlow AI system receives the ticket and uses NLP to categorize it as a \"Technical Support\" issue.\n",
      "* Based on agent expertise and availability, the ticket is routed to an experienced tech support specialist who has a strong understanding of the relevant product knowledge.\n",
      "* Meanwhile, if there are any common FAQs or automated responses for that specific issue, they'll be triggered by ServiceFlow AI to provide an instant reply to the customer.\n",
      "\n",
      "The benefits are numerous – not only do you get faster resolution times and increased efficiency but also:\n",
      "\n",
      "* Reduced overhead from manual ticketing processes\n",
      "* Improved customer satisfaction ratings due to prompter and more accurate support\n",
      "* Enhanced visibility into your service operations through real-time monitoring\n",
      "\n",
      "Would you like me to walk you through some case studies or answer any specific questions about how ServiceFlow AI might address your company's unique challenges?\n"
     ]
    }
   ],
   "source": [
    "result=chat.chat(user_prompt=\"tell me more about it how exactly it works ?\")\n",
    "print(result)"
   ]
  }
 ],
 "metadata": {
  "kernelspec": {
   "display_name": "venv",
   "language": "python",
   "name": "python3"
  },
  "language_info": {
   "codemirror_mode": {
    "name": "ipython",
    "version": 3
   },
   "file_extension": ".py",
   "mimetype": "text/x-python",
   "name": "python",
   "nbconvert_exporter": "python",
   "pygments_lexer": "ipython3",
   "version": "3.12.3"
  }
 },
 "nbformat": 4,
 "nbformat_minor": 2
}
