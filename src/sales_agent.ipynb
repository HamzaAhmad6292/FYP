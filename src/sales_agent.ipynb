{
 "cells": [
  {
   "cell_type": "code",
   "execution_count": 2,
   "metadata": {},
   "outputs": [],
   "source": [
    "from utils.chat import OllamaChat\n",
    "from utils.prompts import get_persona\n",
    "from company_about_summarizer import summarize_company_about\n",
    "from utils.example_company.company_about import company_data"
   ]
  },
  {
   "cell_type": "markdown",
   "metadata": {},
   "source": [
    "# Summarizing the Company Data"
   ]
  },
  {
   "cell_type": "code",
   "execution_count": 3,
   "metadata": {},
   "outputs": [],
   "source": [
    "company_data_summarized=summarize_company_about(company_data)\n"
   ]
  },
  {
   "cell_type": "code",
   "execution_count": 4,
   "metadata": {},
   "outputs": [],
   "source": [
    "system_prompt = get_persona(\"general_sales_agent\",company_data=company_data_summarized)"
   ]
  },
  {
   "cell_type": "code",
   "execution_count": 5,
   "metadata": {},
   "outputs": [],
   "source": [
    "chat = OllamaChat(\n",
    "        model='llama3.1',  # Replace with your desired model\n",
    "        system_prompt=system_prompt,\n",
    "        n_ctx=4096,\n",
    "        temperature=0.7\n",
    "    )"
   ]
  },
  {
   "cell_type": "code",
   "execution_count": 10,
   "metadata": {},
   "outputs": [],
   "source": [
    "result=chat.chat(user_prompt=\"ummm yeah sure I am running an ecommerce business for cosmetics how can you help me ?\")\n",
    "# chat._save_conversation()"
   ]
  },
  {
   "cell_type": "code",
   "execution_count": 11,
   "metadata": {},
   "outputs": [
    {
     "name": "stdout",
     "output_type": "stream",
     "text": [
      "That's fantastic! E-commerce and cosmetics are a great combination.\n",
      "\n",
      "At TechCare AI, we've worked with several e-commerce businesses in the beauty and cosmetics space to improve their customer service experience. Our AI-powered solutions can help you automate responses to common questions, freeing up your team to focus on more complex issues.\n",
      "\n",
      "For example, our ServiceFlow AI product can route tickets to the most suitable agents based on the issue, ensuring that customers get timely assistance. We've also seen significant improvements in response times and customer satisfaction with our clients who have implemented this solution.\n",
      "\n",
      "Additionally, our ChatGenius Pro chatbot can help you provide 24/7 support to your customers, reducing the load on your human representatives during peak hours. And with our InsightHub Analytics, you'll get valuable insights into customer behavior and preferences, allowing you to make data-driven decisions for future improvements.\n",
      "\n",
      "We've had success stories with similar businesses in the e-commerce space, like [Company X], who saw a 30% reduction in response time and a 25% increase in customer satisfaction after implementing our solutions. Would you like me to share more about how we can help your business specifically?\n"
     ]
    }
   ],
   "source": [
    "print(result)"
   ]
  },
  {
   "cell_type": "code",
   "execution_count": 27,
   "metadata": {},
   "outputs": [],
   "source": [
    "chat._load_conversation()"
   ]
  },
  {
   "cell_type": "code",
   "execution_count": 42,
   "metadata": {},
   "outputs": [],
   "source": [
    "result=chatbot.chat(message=\"What Services Do you provide ?\")"
   ]
  }
 ],
 "metadata": {
  "kernelspec": {
   "display_name": "venv",
   "language": "python",
   "name": "python3"
  },
  "language_info": {
   "codemirror_mode": {
    "name": "ipython",
    "version": 3
   },
   "file_extension": ".py",
   "mimetype": "text/x-python",
   "name": "python",
   "nbconvert_exporter": "python",
   "pygments_lexer": "ipython3",
   "version": "3.12.3"
  }
 },
 "nbformat": 4,
 "nbformat_minor": 2
}
