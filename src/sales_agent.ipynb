{
 "cells": [
  {
   "cell_type": "code",
   "execution_count": 1,
   "metadata": {},
   "outputs": [],
   "source": [
    "from utils.chat import OllamaChat\n",
    "from utils.prompts import get_persona\n",
    "from company_about_summarizer import summarize_company_about\n",
    "from utils.example_company.company_about import company_data\n",
    "from utils.example_company.example_customer import example_customer\n",
    "from utils.example_company.products_data import Products_data\n",
    "import json"
   ]
  },
  {
   "cell_type": "markdown",
   "metadata": {},
   "source": [
    "# Summarizing the Company Data"
   ]
  },
  {
   "cell_type": "code",
   "execution_count": 2,
   "metadata": {},
   "outputs": [],
   "source": [
    "company_data_summarized=summarize_company_about(company_data)\n"
   ]
  },
  {
   "cell_type": "code",
   "execution_count": 3,
   "metadata": {},
   "outputs": [],
   "source": [
    "system_prompt = get_persona(\"general_sales_agent\",company_data=company_data_summarized)"
   ]
  },
  {
   "cell_type": "code",
   "execution_count": 4,
   "metadata": {},
   "outputs": [],
   "source": [
    "chat = OllamaChat(\n",
    "        model='llama3.1',  \n",
    "        system_prompt=system_prompt,\n",
    "        n_ctx=8000,\n",
    "        temperature=1.2\n",
    "    )"
   ]
  },
  {
   "cell_type": "markdown",
   "metadata": {},
   "source": [
    "# Greeting the Customer"
   ]
  },
  {
   "cell_type": "code",
   "execution_count": 5,
   "metadata": {},
   "outputs": [],
   "source": [
    "result=chat.chat(user_prompt=\"hello ?\")"
   ]
  },
  {
   "cell_type": "markdown",
   "metadata": {},
   "source": [
    "# Shifting to Pitching Now"
   ]
  },
  {
   "cell_type": "code",
   "execution_count": null,
   "metadata": {},
   "outputs": [],
   "source": [
    "name=example_customer[\"customer_name\"]\n",
    "\n",
    "company=example_customer[\"customer_company\"]\n",
    "\n",
    "description=example_customer[\"company_description\"]\n",
    "\n",
    "product_service_details=json.dumps(Products_data[\"products_and_services\"][0])\n",
    "\n"
   ]
  },
  {
   "cell_type": "code",
   "execution_count": 7,
   "metadata": {},
   "outputs": [],
   "source": [
    "chat.system_prompt=get_persona(\"product_pitch_agent\",customer_name=name,customer_company=company,company_description=description,product_service_details=product_service_details)"
   ]
  },
  {
   "cell_type": "code",
   "execution_count": 8,
   "metadata": {},
   "outputs": [],
   "source": [
    "result=chat.chat(user_prompt=\"Yeah sure\")\n",
    "result=chat.chat(user_prompt=\"tell me more about it how exactly it works and how exactly it can help me?\")\n",
    "\n"
   ]
  },
  {
   "cell_type": "code",
   "execution_count": 9,
   "metadata": {},
   "outputs": [
    {
     "name": "stdout",
     "output_type": "stream",
     "text": [
      "I'd be happy to dive deeper into the details of ServiceFlow AI.\n",
      "\n",
      "So, here's a high-level overview of how it works:\n",
      "\n",
      "1. **Ticket Ingestion**: Our system receives tickets from your customers through various channels like email, chatbots, or API integrations.\n",
      "2. **AI-driven Categorization**: The AI engine then categorizes these tickets with remarkable 98% accuracy. This ensures that each issue is properly labeled and directed to the right agent or department.\n",
      "3. **Smart Routing**: Tickets are automatically routed based on agent expertise, availability, and other factors like language preferences. This way, you can guarantee that every customer's concern reaches the best-suited person for resolution.\n",
      "\n",
      "The benefits of ServiceFlow AI are quite impressive:\n",
      "\n",
      "* **Reduced Response Times**: With tickets being directed to the right agents swiftly, your response times see a significant improvement.\n",
      "* **Increased Accuracy**: The AI-driven categorization and smart routing reduce errors and misrouting.\n",
      "* **Consistency in Resolutions**: Automated responses for common queries help maintain consistency across different customer interactions.\n",
      "\n",
      "At Tech Innovators Inc., you might benefit from ServiceFlow AI if you:\n",
      "\n",
      "* Are struggling with high volumes of customer tickets\n",
      "* Have difficulty allocating tasks to the right team members efficiently\n",
      "* Face challenges with maintaining consistent response times and resolutions\n",
      "\n",
      "I'd be happy to walk you through some case studies or provide more details on how we've helped similar businesses like yours improve their customer service.\n",
      "\n",
      "Would you like me to share a few real-world examples of companies that have successfully implemented ServiceFlow AI?\n"
     ]
    }
   ],
   "source": [
    "print(result)"
   ]
  },
  {
   "cell_type": "code",
   "execution_count": null,
   "metadata": {},
   "outputs": [],
   "source": []
  }
 ],
 "metadata": {
  "kernelspec": {
   "display_name": "venv",
   "language": "python",
   "name": "python3"
  },
  "language_info": {
   "codemirror_mode": {
    "name": "ipython",
    "version": 3
   },
   "file_extension": ".py",
   "mimetype": "text/x-python",
   "name": "python",
   "nbconvert_exporter": "python",
   "pygments_lexer": "ipython3",
   "version": "3.12.3"
  }
 },
 "nbformat": 4,
 "nbformat_minor": 2
}
