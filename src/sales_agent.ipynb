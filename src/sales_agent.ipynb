{
 "cells": [
  {
   "cell_type": "code",
   "execution_count": 1,
   "metadata": {},
   "outputs": [
    {
     "name": "stderr",
     "output_type": "stream",
     "text": [
      "/home/hamza/Desktop/projects/FYP-main/venv/lib/python3.12/site-packages/tqdm/auto.py:21: TqdmWarning: IProgress not found. Please update jupyter and ipywidgets. See https://ipywidgets.readthedocs.io/en/stable/user_install.html\n",
      "  from .autonotebook import tqdm as notebook_tqdm\n"
     ]
    },
    {
     "name": "stdout",
     "output_type": "stream",
     "text": [
      "Error loading conversation: not enough values to unpack (expected 2, got 1)\n"
     ]
    }
   ],
   "source": [
    "from utils.chat import OllamaChat\n",
    "from utils.prompts import get_persona\n",
    "from company_about_summarizer import summarize_company_about\n",
    "from utils.example_company.company_about import company_data\n",
    "from utils.example_company.example_customer import example_customer\n",
    "from utils.example_company.products_data import Products_data\n",
    "import json\n",
    "from langGraph import build_sales_workflow\n",
    "from langgraph.graph import StateGraph, END\n"
   ]
  },
  {
   "cell_type": "markdown",
   "metadata": {},
   "source": [
    "# Summarizing the Company Data"
   ]
  },
  {
   "cell_type": "code",
   "execution_count": 2,
   "metadata": {},
   "outputs": [
    {
     "name": "stdout",
     "output_type": "stream",
     "text": [
      "Error loading conversation: not enough values to unpack (expected 2, got 1)\n"
     ]
    }
   ],
   "source": [
    "company_data_summarized=summarize_company_about(company_data)\n"
   ]
  },
  {
   "cell_type": "code",
   "execution_count": 16,
   "metadata": {},
   "outputs": [],
   "source": [
    "system_prompt = get_persona(\"general_sales_agent\",company_data=company_data_summarized)"
   ]
  },
  {
   "cell_type": "code",
   "execution_count": 5,
   "metadata": {},
   "outputs": [
    {
     "ename": "NameError",
     "evalue": "name 'system_prompt' is not defined",
     "output_type": "error",
     "traceback": [
      "\u001b[0;31m---------------------------------------------------------------------------\u001b[0m",
      "\u001b[0;31mNameError\u001b[0m                                 Traceback (most recent call last)",
      "Cell \u001b[0;32mIn[5], line 3\u001b[0m\n\u001b[1;32m      1\u001b[0m chat \u001b[38;5;241m=\u001b[39m OllamaChat(\n\u001b[1;32m      2\u001b[0m         model\u001b[38;5;241m=\u001b[39m\u001b[38;5;124m'\u001b[39m\u001b[38;5;124mllama3.1\u001b[39m\u001b[38;5;124m'\u001b[39m,  \n\u001b[0;32m----> 3\u001b[0m         system_prompt\u001b[38;5;241m=\u001b[39m\u001b[43msystem_prompt\u001b[49m,\n\u001b[1;32m      4\u001b[0m         n_ctx\u001b[38;5;241m=\u001b[39m\u001b[38;5;241m8000\u001b[39m,\n\u001b[1;32m      5\u001b[0m         temperature\u001b[38;5;241m=\u001b[39m\u001b[38;5;241m1.2\u001b[39m\n\u001b[1;32m      6\u001b[0m     )\n",
      "\u001b[0;31mNameError\u001b[0m: name 'system_prompt' is not defined"
     ]
    }
   ],
   "source": [
    "chat = OllamaChat(\n",
    "        model='llama3.1',  \n",
    "        system_prompt=system_prompt,\n",
    "        n_ctx=8000,\n",
    "        temperature=1.2\n",
    "    )"
   ]
  },
  {
   "cell_type": "markdown",
   "metadata": {},
   "source": [
    "# Greeting the Customer"
   ]
  },
  {
   "cell_type": "code",
   "execution_count": 18,
   "metadata": {},
   "outputs": [],
   "source": [
    "result=chat.chat(user_prompt=\"hello ?\")"
   ]
  },
  {
   "cell_type": "code",
   "execution_count": 19,
   "metadata": {},
   "outputs": [
    {
     "data": {
      "text/plain": [
       "[{'role': 'user', 'content': 'hello ?'},\n",
       " {'role': 'assistant',\n",
       "  'content': \"Hello! My name is Alex, and I'm reaching out from TechCare AI. I hope you're doing well today. I was wondering if I could take just a minute of your time to talk about how we might be able to support your business. Would now be a good time for us to chat?\"}]"
      ]
     },
     "execution_count": 19,
     "metadata": {},
     "output_type": "execute_result"
    }
   ],
   "source": [
    "chat.conversation_history"
   ]
  },
  {
   "cell_type": "code",
   "execution_count": 21,
   "metadata": {},
   "outputs": [
    {
     "name": "stdout",
     "output_type": "stream",
     "text": [
      "Hello! My name is Alex, and I'm reaching out from TechCare AI. I hope you're doing well today. I was wondering if I could take just a minute of your time to talk about how we might be able to support your business. Would now be a good time for us to chat?\n"
     ]
    }
   ],
   "source": [
    "print(result)"
   ]
  },
  {
   "cell_type": "markdown",
   "metadata": {},
   "source": [
    "# Shifting to Pitching Now"
   ]
  },
  {
   "cell_type": "code",
   "execution_count": 2,
   "metadata": {},
   "outputs": [],
   "source": [
    "\n",
    "\n",
    "customer_data=json.dumps(example_customer)\n",
    "\n",
    "\n",
    "product_service_details=json.dumps(Products_data[\"products_and_services\"][0])\n",
    "\n"
   ]
  },
  {
   "cell_type": "code",
   "execution_count": null,
   "metadata": {},
   "outputs": [],
   "source": [
    "chat.system_prompt=get_persona(\"product_pitch_agent\",customer_data=customer_data,product_service_details=product_service_details)"
   ]
  },
  {
   "cell_type": "code",
   "execution_count": 25,
   "metadata": {},
   "outputs": [],
   "source": [
    "result=chat.chat(user_prompt=\"Yeah sure\")\n",
    "result=chat.chat(user_prompt=\"well umm  how exactly it can help me in my business?\")"
   ]
  },
  {
   "cell_type": "code",
   "execution_count": 27,
   "metadata": {},
   "outputs": [
    {
     "name": "stdout",
     "output_type": "stream",
     "text": [
      "Let's dive into that.\n",
      "\n",
      "Firstly, with ServiceFlow AI, you'll be able to significantly reduce the time spent on manually routing tickets and responding to common queries. Our automated responses will ensure consistency across your customer interactions, which is crucial for building trust and reputation.\n",
      "\n",
      "Secondly, our system will help you improve the accuracy of issue resolution by routing tickets to the right agents with expertise in those areas. This means faster resolutions for customers, and ultimately, higher satisfaction rates.\n",
      "\n",
      "Thirdly, ServiceFlow AI can help you scale your operations more efficiently. As your business grows, so does the volume of customer inquiries. Our system will ensure that you're equipped to handle this increase without compromising on service quality.\n",
      "\n",
      "Lastly, our multilingual support feature means you'll be able to cater to a broader customer base, including those who may not speak the same language as your team. This can lead to increased brand awareness and customer loyalty across different markets.\n",
      "\n",
      "We've seen some of our clients reduce their ticket resolution times by up to 50% with ServiceFlow AI. And, they've reported a significant increase in first-contact resolutions, which is when customers get answers without needing further follow-ups.\n",
      "\n",
      "Would you like me to walk you through some case studies or even a quick demo of how ServiceFlow AI works?\n"
     ]
    }
   ],
   "source": [
    "print(result)"
   ]
  },
  {
   "cell_type": "markdown",
   "metadata": {},
   "source": [
    "# Closing the call"
   ]
  },
  {
   "cell_type": "code",
   "execution_count": 29,
   "metadata": {},
   "outputs": [],
   "source": [
    "CLOSING_AGENT = \"\"\"You are Alex, a professional and courteous sales representative at TechCare AI. \n",
    "Your goal is to end the Conversation.\n",
    "\n",
    "Context for Use:  \n",
    "    - The customer has signaled the end of the conversation with a phrase like \"Ok, bye,\" or similar.  \n",
    "\n",
    "Behavioral Guidelines:  \n",
    "\n",
    "    - Thank the customer for their time and for engaging in the conversation.  \n",
    "\n",
    "Response Examples:  \n",
    "\n",
    "    - “Thank you so much for your time, [Customer Name]. It was great speaking with you. If you have any questions, feel free to reach out. Have a wonderful day!”  \n",
    "    - “I appreciate you taking the time to chat with me today. Wishing you and everyone at [Customer Company] all the best. Goodbye!”  \n",
    "    - “Thanks for your time, [Customer Name]. I’ll be happy to follow up if needed. Take care, and have a great day!”  \n",
    "\"\"\""
   ]
  },
  {
   "cell_type": "code",
   "execution_count": null,
   "metadata": {},
   "outputs": [
    {
     "data": {
      "text/plain": [
       "'You are Alex, a professional and courteous sales representative at TechCare AI. \\nYour goal is to end the Conversation.\\n\\nContext for Use:  \\n    - The customer has signaled the end of the conversation with a phrase like \"Ok, bye,\" or similar.  \\n\\nBehavioral Guidelines:  \\n\\n    - Thank the customer for their time and for engaging in the conversation.  \\n\\nResponse Examples:  \\n\\n    - “Thank you so much for your time, [Customer Name]. It was great speaking with you. If you have any questions, feel free to reach out. Have a wonderful day!”  \\n    - “I appreciate you taking the time to chat with me today. Wishing you and everyone at [Customer Company] all the best. Goodbye!”  \\n    - “Thanks for your time, [Customer Name]. I’ll be happy to follow up if needed. Take care, and have a great day!”  \\n'"
      ]
     },
     "execution_count": 30,
     "metadata": {},
     "output_type": "execute_result"
    }
   ],
   "source": [
    "chat.system_prompt=get_persona(\"closing_agent\")\n",
    "chat.system_prompt"
   ]
  },
  {
   "cell_type": "code",
   "execution_count": 31,
   "metadata": {},
   "outputs": [],
   "source": [
    "result=chat.chat(user_prompt=\"hmmmm welll I think its a good idea I will let you you know if I need anything , thankyou\")"
   ]
  },
  {
   "cell_type": "code",
   "execution_count": null,
   "metadata": {},
   "outputs": [
    {
     "name": "stdout",
     "output_type": "stream",
     "text": [
      "It was great chatting with you about our solutions at TechCare AI. Don't hesitate to reach out if you have any further questions or concerns in the future. We're always here to help.\n",
      "\n",
      "I just wanted to add that, as a valued customer, you can always count on us for top-notch support and service. If there's ever anything we can do to help your business thrive, please don't hesitate to reach out.\n",
      "\n",
      "Thanks again for considering TechCare AI, and I wish you all the best in your future endeavors!\n"
     ]
    }
   ],
   "source": [
    "result=chat.chat(user_prompt=\"nah I dont think that will be necessary thankyou bye\")"
   ]
  },
  {
   "cell_type": "code",
   "execution_count": 4,
   "metadata": {},
   "outputs": [
    {
     "ename": "NameError",
     "evalue": "name 'chat' is not defined",
     "output_type": "error",
     "traceback": [
      "\u001b[0;31m---------------------------------------------------------------------------\u001b[0m",
      "\u001b[0;31mNameError\u001b[0m                                 Traceback (most recent call last)",
      "Cell \u001b[0;32mIn[4], line 3\u001b[0m\n\u001b[1;32m      1\u001b[0m \u001b[38;5;28;01mfrom\u001b[39;00m \u001b[38;5;21;01mrich\u001b[39;00m \u001b[38;5;28;01mimport\u001b[39;00m \u001b[38;5;28mprint\u001b[39m \u001b[38;5;28;01mas\u001b[39;00m p\n\u001b[0;32m----> 3\u001b[0m p(\u001b[43mchat\u001b[49m\u001b[38;5;241m.\u001b[39mconversation_history)\n",
      "\u001b[0;31mNameError\u001b[0m: name 'chat' is not defined"
     ]
    }
   ],
   "source": [
    "from rich import print as p\n",
    "\n",
    "p(chat.conversation_history)"
   ]
  },
  {
   "cell_type": "code",
   "execution_count": null,
   "metadata": {},
   "outputs": [],
   "source": []
  },
  {
   "cell_type": "code",
   "execution_count": 3,
   "metadata": {},
   "outputs": [],
   "source": []
  },
  {
   "cell_type": "code",
   "execution_count": 3,
   "metadata": {},
   "outputs": [],
   "source": [
    "workflow = build_sales_workflow()\n",
    "\n"
   ]
  },
  {
   "cell_type": "code",
   "execution_count": 4,
   "metadata": {},
   "outputs": [
    {
     "data": {
      "image/png": "[encoded data removed]",
      "text/plain": [
       "<IPython.core.display.Image object>"
      ]
     },
     "execution_count": 4,
     "metadata": {},
     "output_type": "execute_result"
    }
   ],
   "source": [
    "from IPython.display import Image\n",
    "\n",
    "Image(workflow.get_graph().draw_png())"
   ]
  },
  {
   "cell_type": "code",
   "execution_count": 7,
   "metadata": {},
   "outputs": [],
   "source": [
    "state = {\n",
    "    \"conversation_history\": [],\n",
    "    \"customer_data\": example_customer,\n",
    "    \"current_stage\": \"greeting\",\n",
    "    \"product_info\": Products_data[\"products_and_services\"][0],\n",
    "    \"user_prompt\": \"Hello ?\",\n",
    "    \"interaction_result\": None, \n",
    "    \"company_data\":company_data_summarized\n",
    "}\n",
    "\n"
   ]
  },
  {
   "cell_type": "code",
   "execution_count": 10,
   "metadata": {},
   "outputs": [],
   "source": [
    "while state[\"current_stage\"] != END:\n",
    "    if state[\"conversation_history\"]:\n",
    "        print(f\"AI: {state['conversation_history'][-1]}\")\n",
    "    \n",
    "    user_input = input(\"You: \")  # Get user input dynamically\n",
    "    state[\"user_prompt\"] = user_input\n",
    "    \n",
    "    agent_function = workflow.invoke(state)\n",
    "    state = agent_function(state)\n",
    "\n",
    "print(\"Conversation ended.\")"
   ]
  },
  {
   "cell_type": "code",
   "execution_count": null,
   "metadata": {},
   "outputs": [],
   "source": []
  }
 ],
 "metadata": {
  "kernelspec": {
   "display_name": "venv",
   "language": "python",
   "name": "python3"
  },
  "language_info": {
   "codemirror_mode": {
    "name": "ipython",
    "version": 3
   },
   "file_extension": ".py",
   "mimetype": "text/x-python",
   "name": "python",
   "nbconvert_exporter": "python",
   "pygments_lexer": "ipython3",
   "version": "3.12.3"
  }
 },
 "nbformat": 4,
 "nbformat_minor": 2
}
