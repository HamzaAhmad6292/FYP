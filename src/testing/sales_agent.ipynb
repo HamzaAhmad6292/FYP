{
 "cells": [
  {
   "cell_type": "code",
   "execution_count": null,
   "metadata": {},
   "outputs": [],
   "source": [
    "from langchain.llms import Ollama\n",
    "from langchain.memory import ConversationBufferMemory\n",
    "from langchain.chains import ConversationChain\n",
    "from langchain.callbacks.manager import CallbackManager\n",
    "from langchain.callbacks.streaming_stdout import StreamingStdOutCallbackHandler\n",
    "from typing import Optional\n",
    "\n",
    "class OllamaChatBot:\n",
    "    def __init__(\n",
    "        self,\n",
    "        model_name: str = \"llama3.2\",\n",
    "        streaming: bool = False,\n",
    "        base_url: str = \"http://localhost:11434\",\n",
    "        system_prompt: Optional[str] = None,\n",
    "        max_tokens=8000\n",
    "    ):\n",
    "        callbacks = [StreamingStdOutCallbackHandler()] if streaming else None\n",
    "        callback_manager = CallbackManager(callbacks) if callbacks else None\n",
    "        \n",
    "        self.llm = Ollama(\n",
    "            model=model_name,\n",
    "            base_url=base_url,\n",
    "            callback_manager=callback_manager,\n",
    "            temperature=0.7,\n",
    "            system=system_prompt,\n",
    "            num_ctx=max_tokens,\n",
    "\n",
    "            \n",
    "        )\n",
    "        \n",
    "        self.memory = ConversationBufferMemory()\n",
    "        \n",
    "        self.conversation = ConversationChain(\n",
    "            llm=self.llm,\n",
    "            memory=self.memory,\n",
    "            verbose=False,\n",
    "        )\n",
    "        \n",
    "\n",
    "        self.system_prompt = system_prompt\n",
    "\n",
    "    def chat(self, message: str) -> str:\n",
    "\n",
    "        response = self.conversation.predict(input=message)\n",
    "        return response\n",
    "\n",
    "    def clear_history(self):\n",
    "\n",
    "        self.memory.clear()\n",
    "\n",
    "    def get_history(self) -> str:\n",
    "\n",
    "        return self.memory.buffer\n",
    "\n",
    "    def update_system_prompt(self, new_system_prompt: str):\n",
    "        self.system_prompt = new_system_prompt\n",
    "        self.llm.system = new_system_prompt"
   ]
  },
  {
   "cell_type": "code",
   "execution_count": 17,
   "metadata": {},
   "outputs": [],
   "source": [
    "chatbot = OllamaChatBot(model_name=\"llama3.2\")\n",
    "\n"
   ]
  },
  {
   "cell_type": "code",
   "execution_count": 18,
   "metadata": {},
   "outputs": [],
   "source": [
    "result=chatbot.chat(message=\"how can you help me ?\")"
   ]
  },
  {
   "cell_type": "code",
   "execution_count": 15,
   "metadata": {},
   "outputs": [
    {
     "data": {
      "text/html": [
       "<pre style=\"white-space:pre;overflow-x:auto;line-height:normal;font-family:Menlo,'DejaVu Sans Mono',consolas,'Courier New',monospace\">Human: hello\n",
       "AI: Hello! It's lovely to meet you. I'm an advanced language model, trained on a vast corpus of text data, which \n",
       "allows me to generate human-like responses and engage in conversations. My knowledge base is constantly updated \n",
       "with new information, so feel free to ask me anything that piques your curiosity. By the way, did you know that my \n",
       "architecture is based on transformer models, specifically BERT and RoBERTa?\n",
       "Human: how can you help me ?\n",
       "AI: I'm here to provide information, answer questions, and assist with tasks to the best of my abilities. I can \n",
       "help with a wide range of topics, from general knowledge and trivia to more specialized subjects like science, \n",
       "history, or technology. If you're looking for ideas on what to do next, I can also suggest some fun activities or \n",
       "provide recommendations based on your interests.\n",
       "\n",
       "For instance, if you're planning a trip to Japan, I could help with suggestions on must-visit cities, recommended \n",
       "restaurants, and even offer tips on how to navigate the public transportation system. Or, if you're interested in \n",
       "learning more about space exploration, I can share details on recent discoveries, like the detection of water vapor\n",
       "on Mars or the latest findings from the James Webb Space Telescope.\n",
       "\n",
       "I'm also happy to engage in creative conversations, such as writing stories together, playing text-based games, or \n",
       "even generating poetry. The possibilities are endless!\n",
       "\n",
       "What sounds interesting to you?\n",
       "</pre>\n"
      ],
      "text/plain": [
       "Human: hello\n",
       "AI: Hello! It's lovely to meet you. I'm an advanced language model, trained on a vast corpus of text data, which \n",
       "allows me to generate human-like responses and engage in conversations. My knowledge base is constantly updated \n",
       "with new information, so feel free to ask me anything that piques your curiosity. By the way, did you know that my \n",
       "architecture is based on transformer models, specifically BERT and RoBERTa?\n",
       "Human: how can you help me ?\n",
       "AI: I'm here to provide information, answer questions, and assist with tasks to the best of my abilities. I can \n",
       "help with a wide range of topics, from general knowledge and trivia to more specialized subjects like science, \n",
       "history, or technology. If you're looking for ideas on what to do next, I can also suggest some fun activities or \n",
       "provide recommendations based on your interests.\n",
       "\n",
       "For instance, if you're planning a trip to Japan, I could help with suggestions on must-visit cities, recommended \n",
       "restaurants, and even offer tips on how to navigate the public transportation system. Or, if you're interested in \n",
       "learning more about space exploration, I can share details on recent discoveries, like the detection of water vapor\n",
       "on Mars or the latest findings from the James Webb Space Telescope.\n",
       "\n",
       "I'm also happy to engage in creative conversations, such as writing stories together, playing text-based games, or \n",
       "even generating poetry. The possibilities are endless!\n",
       "\n",
       "What sounds interesting to you?\n"
      ]
     },
     "metadata": {},
     "output_type": "display_data"
    }
   ],
   "source": [
    "from rich import print as p\n",
    "\n",
    "\n",
    "p(chatbot.get_history())"
   ]
  }
 ],
 "metadata": {
  "kernelspec": {
   "display_name": "venv",
   "language": "python",
   "name": "python3"
  },
  "language_info": {
   "codemirror_mode": {
    "name": "ipython",
    "version": 3
   },
   "file_extension": ".py",
   "mimetype": "text/x-python",
   "name": "python",
   "nbconvert_exporter": "python",
   "pygments_lexer": "ipython3",
   "version": "3.12.3"
  }
 },
 "nbformat": 4,
 "nbformat_minor": 2
}
