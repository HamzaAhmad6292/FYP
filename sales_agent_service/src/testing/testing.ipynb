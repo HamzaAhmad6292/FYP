{
 "cells": [
  {
   "cell_type": "code",
   "execution_count": null,
   "metadata": {},
   "outputs": [
    {
     "name": "stderr",
     "output_type": "stream",
     "text": [
      "/home/hamza/Desktop/projects/FYP-main/venv/lib/python3.12/site-packages/tqdm/auto.py:21: TqdmWarning: IProgress not found. Please update jupyter and ipywidgets. See https://ipywidgets.readthedocs.io/en/stable/user_install.html\n",
      "  from .autonotebook import tqdm as notebook_tqdm\n",
      "Loading checkpoint shards: 100%|██████████| 2/2 [00:05<00:00,  2.71s/it]\n",
      "Some parameters are on the meta device because they were offloaded to the disk and cpu.\n"
     ]
    }
   ],
   "source": [
    "from transformers import pipeline\n",
    "import torch\n",
    "pipe = pipeline(\n",
    "        \"text-generation\",\n",
    "        model=\"meta-llama/Llama-3.2-3B-Instruct\",\n",
    "        device_map=\"auto\",  \n",
    "        max_length=2048,  \n",
    "        torch_dtype=torch.float32,\n",
    "        low_cpu_memory_usage=True\n",
    "    )"
   ]
  },
  {
   "cell_type": "code",
   "execution_count": 2,
   "metadata": {},
   "outputs": [
    {
     "name": "stderr",
     "output_type": "stream",
     "text": [
      "Setting `pad_token_id` to `eos_token_id`:None for open-end generation.\n",
      "Both `max_new_tokens` (=500) and `max_length`(=2048) seem to have been set. `max_new_tokens` will take precedence. Please refer to the documentation for more information. (https://huggingface.co/docs/transformers/main/en/main_classes/text_generation)\n"
     ]
    },
    {
     "data": {
      "text/plain": [
       "[{'generated_text': 'Hello. How can I assist you today?'}]"
      ]
     },
     "execution_count": 2,
     "metadata": {},
     "output_type": "execute_result"
    }
   ],
   "source": [
    "messages = [\n",
    "        {\n",
    "            \"role\": \"system\",\n",
    "            \"content\": \"\"\n",
    "        },\n",
    "        {\n",
    "            \"role\": \"user\",\n",
    "            \"content\": \"hello\"\n",
    "        },\n",
    "    ]\n",
    "\n",
    "\n",
    "pipe(\n",
    "        messages,\n",
    "        max_new_tokens=500,\n",
    "        temperature=1,\n",
    "        return_full_text=False,  # Only return generated text\n",
    "        top_k=50,  # Limit sampling to top-k tokens\n",
    "        top_p=0.95,  # Limit sampling to top-p tokens (nucleus sampling)\n",
    "    )\n"
   ]
  },
  {
   "cell_type": "code",
   "execution_count": null,
   "metadata": {},
   "outputs": [
    {
     "name": "stderr",
     "output_type": "stream",
     "text": [
      "/home/hamza/Desktop/projects/FYP-main/venv/lib/python3.12/site-packages/tqdm/auto.py:21: TqdmWarning: IProgress not found. Please update jupyter and ipywidgets. See https://ipywidgets.readthedocs.io/en/stable/user_install.html\n",
      "  from .autonotebook import tqdm as notebook_tqdm\n",
      "Loading checkpoint shards:   0%|          | 0/2 [00:00<?, ?it/s]"
     ]
    }
   ],
   "source": [
    "from transformers import AutoModelForCausalLM\n",
    "\n",
    "model = AutoModelForCausalLM.from_pretrained(\"meta-llama/Llama-3.2-3B-Instruct\")\n",
    "model.to_bettertransformer()"
   ]
  },
  {
   "cell_type": "code",
   "execution_count": 1,
   "metadata": {},
   "outputs": [
    {
     "ename": "NameError",
     "evalue": "name 'pipe' is not defined",
     "output_type": "error",
     "traceback": [
      "\u001b[0;31m---------------------------------------------------------------------------\u001b[0m",
      "\u001b[0;31mNameError\u001b[0m                                 Traceback (most recent call last)",
      "Cell \u001b[0;32mIn[1], line 1\u001b[0m\n\u001b[0;32m----> 1\u001b[0m \u001b[43mpipe\u001b[49m([{\u001b[38;5;124m\"\u001b[39m\u001b[38;5;124mrole\u001b[39m\u001b[38;5;124m\"\u001b[39m:\u001b[38;5;124m\"\u001b[39m\u001b[38;5;124muser\u001b[39m\u001b[38;5;124m\"\u001b[39m,\u001b[38;5;124m\"\u001b[39m\u001b[38;5;124mcontent\u001b[39m\u001b[38;5;124m\"\u001b[39m:\u001b[38;5;124m\"\u001b[39m\u001b[38;5;124mhello\u001b[39m\u001b[38;5;124m\"\u001b[39m}])\n",
      "\u001b[0;31mNameError\u001b[0m: name 'pipe' is not defined"
     ]
    }
   ],
   "source": [
    "pipe([{\"role\":\"user\",\"content\":\"hello\"}])"
   ]
  },
  {
   "cell_type": "code",
   "execution_count": 2,
   "metadata": {},
   "outputs": [
    {
     "ename": "ModuleNotFoundError",
     "evalue": "No module named 'pandas'",
     "output_type": "error",
     "traceback": [
      "\u001b[0;31m---------------------------------------------------------------------------\u001b[0m",
      "\u001b[0;31mModuleNotFoundError\u001b[0m                       Traceback (most recent call last)",
      "Cell \u001b[0;32mIn[2], line 1\u001b[0m\n\u001b[0;32m----> 1\u001b[0m \u001b[38;5;28;01mimport\u001b[39;00m\u001b[38;5;250m \u001b[39m\u001b[38;5;21;01mpandas\u001b[39;00m\u001b[38;5;250m \u001b[39m\u001b[38;5;28;01mas\u001b[39;00m\u001b[38;5;250m \u001b[39m\u001b[38;5;21;01mpd\u001b[39;00m\n\u001b[1;32m      3\u001b[0m df\u001b[38;5;241m=\u001b[39mpd\u001b[38;5;241m.\u001b[39mread_csv(\u001b[38;5;124m\"\u001b[39m\u001b[38;5;124m../../../../../../../../home/hamza/Downloads/data1.csv\u001b[39m\u001b[38;5;124m\"\u001b[39m)\n",
      "\u001b[0;31mModuleNotFoundError\u001b[0m: No module named 'pandas'"
     ]
    }
   ],
   "source": [
    "import pandas as pd\n",
    "\n",
    "df=pd.read_csv(\"../../../../../../../../home/hamza/Downloads/data1.csv\")"
   ]
  },
  {
   "cell_type": "code",
   "execution_count": 1,
   "metadata": {},
   "outputs": [
    {
     "name": "stdout",
     "output_type": "stream",
     "text": [
      "User: hello\n",
      "\n",
      "Assistant: Hello, my name is Alex, I'm a sales representative with TechCare AI, how are you doing today, got a minute to chat?\n",
      "\n",
      "User: yeah sure\n",
      "\n",
      "Assistant: I'm calling today because we've helped many companies like yours improve their customer service experience, are you currently looking for ways to enhance your customer engagement and support?\n",
      "\n",
      "User: not specifally not looking at something \n",
      "\n",
      "Assistant: Well, Zain, I understand that you might not be actively looking, but I'm curious, how's your current customer service process working out for you, especially with managing weddings and on-demand food services at your company?\n",
      "\n",
      "User: well we dont manage wedding but ummm we do handle  functions like birthdays and big function are well what can I say they are difficult to handle sometimes but my team is good \n",
      "\n",
      "Assistant: Handling large functions can be challenging, Zain. I'm sure your team does a great job, but I'm guessing that managing a high volume of requests and issues during those events can be overwhelming at times, right?\n",
      "\n",
      "User: yeah it does\n",
      "\n",
      "Assistant: You know, that's where our ServiceFlow AI can really help, Zain. It's an intelligent ticket management system that can help automate and streamline your customer service process, so your team can focus on what matters most, like making those birthday parties and big functions a success. Would you like to hear more about it?\n",
      "\n",
      "User: yeah sure\n",
      "\n",
      "Assistant: So, ServiceFlow AI uses AI to categorize and route tickets to the right person, and even provides automated responses for common queries. This way, your team can focus on the more complex issues that require a personal touch. For example, if a vendor has a question about an order, the system can automatically respond with the answer, freeing up your team to handle more important things. Does that sound like something that could help your team, Zain?\n",
      "\n",
      "User: hmmm\n",
      "\n",
      "Assistant: I think what might be really valuable for your business, Zain, is the ability to handle a high volume of requests quickly and efficiently, especially during peak periods like big functions. With ServiceFlow AI, you can ensure that every vendor and customer inquiry is responded to promptly, without overwhelming your team. Can you imagine having more time to focus on growing your food business, rather than just keeping up with customer requests?\n",
      "\n",
      "User: but I will have to train my team to use and if it take time \n",
      "\n",
      "Assistant: Training can be a hurdle, Zain. But, actually, our system is designed to be pretty intuitive and user-friendly. We also provide comprehensive onboarding and support to ensure a smooth transition. Plus, our system can be integrated with your existing tools, so your team won't have to start from scratch. How much time do you think you'd need to dedicate to training, and I can give you a better idea of what that process would look like?\n",
      "\n",
      "User: well sounds something I can use but what about cost ?\n",
      "\n",
      "Assistant: Cost is always a consideration, Zain. Well, I can tell you that our pricing is tiered, so it's flexible and scalable to your business needs. We've worked with similar food businesses like yours, and we've seen that the efficiency gains and improved customer satisfaction can actually help offset the costs. Would you like me to give you a rough estimate of what the investment might look like for your company?\n",
      "\n",
      "User: yes just a rough idea would be enough\n",
      "\n",
      "Assistant: Roughly, our pricing starts at around $500 per month for a basic plan, and can go up to $2,000 per month for a more advanced plan with all the bells and whistles. But, for a business like yours, I'd say we're probably looking at something in the middle range, around $1,000 to $1,500 per month. Does that sound like it could fit within your budget, Zain?\n",
      "\n",
      "User: hmmm\n",
      "\n",
      "Assistant: I understand it's an investment, Zain. But think about all the time and resources your team would save by automating routine tasks and streamlining customer service. You could actually save money in the long run by reducing the need for additional staffing or overtime. Would you be open to a demo or trial to see the system in action and get a better feel for the ROI?\n",
      "\n",
      "User: well yeah I would like to see a demo\n",
      "\n",
      "Assistant: I'll set up a demo for you, Zain, and walk you through the system. I'll also share some case studies from similar food businesses that have seen some amazing results with ServiceFlow AI. Would you be available for a demo sometime this week or next?\n",
      "\n",
      "User: this friday afternoon would be good \n",
      "\n",
      "Assistant: This Friday afternoon works perfectly, Zain. I'll send you a calendar invite to confirm. Let's say 2 PM? And I'll make sure to have everything ready to give you a comprehensive demo of ServiceFlow AI. Looking forward to it!\n",
      "\n",
      "User: ok\n",
      "\n",
      "Assistant: Thank you so much for your time, Zain. It was great speaking with you and discussing how ServiceFlow AI can help your business. I'm looking forward to our demo this Friday. If you have any questions before then, feel free to reach out. Have a wonderful day and I'll talk to you soon!\n",
      "\n",
      "User: ok bye \n",
      "\n"
     ]
    }
   ],
   "source": [
    "conversation = [\n",
    "    {'role': 'user', 'content': 'hello'},\n",
    "    {'role': 'assistant', 'content': \"Hello, my name is Alex, I'm a sales representative with TechCare AI, how are you doing today, got a minute to chat?\"},\n",
    "    {'role': 'user', 'content': 'yeah sure'},\n",
    "    {'role': 'assistant', 'content': \"I'm calling today because we've helped many companies like yours improve their customer service experience, are you currently looking for ways to enhance your customer engagement and support?\"},\n",
    "    {'role': 'user', 'content': 'not specifally not looking at something '},\n",
    "    {'role': 'assistant', 'content': \"Well, Zain, I understand that you might not be actively looking, but I'm curious, how's your current customer service process working out for you, especially with managing weddings and on-demand food services at your company?\"},\n",
    "    {'role': 'user', 'content': 'well we dont manage wedding but ummm we do handle  functions like birthdays and big function are well what can I say they are difficult to handle sometimes but my team is good '},\n",
    "    {'role': 'assistant', 'content': \"Handling large functions can be challenging, Zain. I'm sure your team does a great job, but I'm guessing that managing a high volume of requests and issues during those events can be overwhelming at times, right?\"},\n",
    "    {'role': 'user', 'content': 'yeah it does'},\n",
    "    {'role': 'assistant', 'content': \"You know, that's where our ServiceFlow AI can really help, Zain. It's an intelligent ticket management system that can help automate and streamline your customer service process, so your team can focus on what matters most, like making those birthday parties and big functions a success. Would you like to hear more about it?\"},\n",
    "    {'role': 'user', 'content': 'yeah sure'},\n",
    "    {'role': 'assistant', 'content': 'So, ServiceFlow AI uses AI to categorize and route tickets to the right person, and even provides automated responses for common queries. This way, your team can focus on the more complex issues that require a personal touch. For example, if a vendor has a question about an order, the system can automatically respond with the answer, freeing up your team to handle more important things. Does that sound like something that could help your team, Zain?'},\n",
    "    {'role': 'user', 'content': 'hmmm'},\n",
    "    {'role': 'assistant', 'content': 'I think what might be really valuable for your business, Zain, is the ability to handle a high volume of requests quickly and efficiently, especially during peak periods like big functions. With ServiceFlow AI, you can ensure that every vendor and customer inquiry is responded to promptly, without overwhelming your team. Can you imagine having more time to focus on growing your food business, rather than just keeping up with customer requests?'},\n",
    "    {'role': 'user', 'content': 'but I will have to train my team to use and if it take time '},\n",
    "    {'role': 'assistant', 'content': \"Training can be a hurdle, Zain. But, actually, our system is designed to be pretty intuitive and user-friendly. We also provide comprehensive onboarding and support to ensure a smooth transition. Plus, our system can be integrated with your existing tools, so your team won't have to start from scratch. How much time do you think you'd need to dedicate to training, and I can give you a better idea of what that process would look like?\"},\n",
    "    {'role': 'user', 'content': 'well sounds something I can use but what about cost ?'},\n",
    "    {'role': 'assistant', 'content': \"Cost is always a consideration, Zain. Well, I can tell you that our pricing is tiered, so it's flexible and scalable to your business needs. We've worked with similar food businesses like yours, and we've seen that the efficiency gains and improved customer satisfaction can actually help offset the costs. Would you like me to give you a rough estimate of what the investment might look like for your company?\"},\n",
    "    {'role': 'user', 'content': 'yes just a rough idea would be enough'},\n",
    "    {'role': 'assistant', 'content': \"Roughly, our pricing starts at around $500 per month for a basic plan, and can go up to $2,000 per month for a more advanced plan with all the bells and whistles. But, for a business like yours, I'd say we're probably looking at something in the middle range, around $1,000 to $1,500 per month. Does that sound like it could fit within your budget, Zain?\"},\n",
    "    {'role': 'user', 'content': 'hmmm'},\n",
    "    {'role': 'assistant', 'content': \"I understand it's an investment, Zain. But think about all the time and resources your team would save by automating routine tasks and streamlining customer service. You could actually save money in the long run by reducing the need for additional staffing or overtime. Would you be open to a demo or trial to see the system in action and get a better feel for the ROI?\"},\n",
    "    {'role': 'user', 'content': 'well yeah I would like to see a demo'},\n",
    "    {'role': 'assistant', 'content': \"I'll set up a demo for you, Zain, and walk you through the system. I'll also share some case studies from similar food businesses that have seen some amazing results with ServiceFlow AI. Would you be available for a demo sometime this week or next?\"},\n",
    "    {'role': 'user', 'content': 'this friday afternoon would be good '},\n",
    "    {'role': 'assistant', 'content': \"This Friday afternoon works perfectly, Zain. I'll send you a calendar invite to confirm. Let's say 2 PM? And I'll make sure to have everything ready to give you a comprehensive demo of ServiceFlow AI. Looking forward to it!\"},\n",
    "    {'role': 'user', 'content': 'ok'},\n",
    "    {'role': 'assistant', 'content': \"Thank you so much for your time, Zain. It was great speaking with you and discussing how ServiceFlow AI can help your business. I'm looking forward to our demo this Friday. If you have any questions before then, feel free to reach out. Have a wonderful day and I'll talk to you soon!\"},\n",
    "    {'role': 'user', 'content': 'ok bye '}\n",
    "]\n",
    "\n",
    "# Print conversation in a formatted text output\n",
    "for message in conversation:\n",
    "    role = message['role'].capitalize()\n",
    "    content = message['content']\n",
    "    print(f\"{role}: {content}\\n\")\n"
   ]
  }
 ],
 "metadata": {
  "kernelspec": {
   "display_name": ".venv",
   "language": "python",
   "name": "python3"
  },
  "language_info": {
   "codemirror_mode": {
    "name": "ipython",
    "version": 3
   },
   "file_extension": ".py",
   "mimetype": "text/x-python",
   "name": "python",
   "nbconvert_exporter": "python",
   "pygments_lexer": "ipython3",
   "version": "3.12.3"
  }
 },
 "nbformat": 4,
 "nbformat_minor": 2
}
